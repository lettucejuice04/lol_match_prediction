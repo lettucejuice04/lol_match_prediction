{
 "cells": [
  {
   "cell_type": "code",
   "execution_count": null,
   "id": "783e88d5",
   "metadata": {},
   "outputs": [],
   "source": [
    "import src.lol_utils as lol\n",
    "import pandas as pd"
   ]
  },
  {
   "cell_type": "markdown",
   "id": "51861049",
   "metadata": {},
   "source": [
    "## Loading Data\n",
    "Loads the dataframe from SQL, and sets it equivalent to df. In doing so, we also parse it so the dataframe is structured correctly (in Python lists) to avoid formatting problems.\n"
   ]
  },
  {
   "cell_type": "code",
   "execution_count": null,
   "id": "b43504ff",
   "metadata": {},
   "outputs": [],
   "source": [
    "df = lol.fetch_from_sql(schema='soloq', table_name='lol_analytics')"
   ]
  },
  {
   "cell_type": "markdown",
   "id": "3acc0b3b",
   "metadata": {},
   "source": [
    "## Preprocessing Data\n",
    "After the data has been loaded, we clean the data up, detecting bad rows, duplicates, and determining if there are any champions that in the set of champions.\n",
    "\n",
    "After detecting the bad rows, we delete them and create a new cleaned dataframe with only the good rows (any rows that do not have duplicates, are not in the consistent format of 5 champs per team, and with champions that are recognized in the champion list)."
   ]
  },
  {
   "cell_type": "code",
   "execution_count": null,
   "id": "764d881b",
   "metadata": {},
   "outputs": [],
   "source": [
    "from src.lol_utils import champion_list\n",
    "\n",
    "# perfect we have the data! now let's do some pre-processing\n",
    "\n",
    "# detect bad rows:\n",
    "bad_nulls = df[(df['blue_team'].apply(len) == 0) | (df['red_team'].apply(len) == 0)]\n",
    "bad_counts = df[(df['blue_team'].apply(len) != 5) | (df['red_team'].apply(len) != 5)]\n",
    "# duplicates\n",
    "df['blue_dup'] = df['blue_team'].apply(lambda L: len(set(L)) != len(L))\n",
    "df['red_dup']  = df['red_team'].apply(lambda L: len(set(L)) != len(L))\n",
    "\n",
    "# unknown champs: compare against canonical set\n",
    "canonical = set(champion_list)  # fill with your champion list\n",
    "df['blue_unknown'] = df['blue_team'].apply(lambda L: [c for c in L if c not in canonical])\n",
    "df['red_unknown']  = df['red_team'].apply(lambda L: [c for c in L if c not in canonical])"
   ]
  },
  {
   "cell_type": "code",
   "execution_count": null,
   "id": "ccd76a11",
   "metadata": {},
   "outputs": [],
   "source": [
    "# clean up bad rows where blue_unknown or red_unknown is non-empty, or blue_dup/red_dup is True, or team_parsed length != 5\n",
    "clean_df = df[\n",
    "    (df['blue_dup'] == False) &\n",
    "    (df['red_dup'] == False) &\n",
    "    (df['blue_unknown'].apply(len) == 0) &\n",
    "    (df['red_unknown'].apply(len) == 0) &\n",
    "    (df['blue_team'].apply(len) == 5) &\n",
    "    (df['red_team'].apply(len) == 5)\n",
    "].copy()\n",
    "\n",
    "clean_df['target'] = (clean_df['winner'] == 'blue').astype(int)\n",
    "\n",
    "df = clean_df.copy()"
   ]
  },
  {
   "cell_type": "markdown",
   "id": "3a7b3faa",
   "metadata": {},
   "source": [
    "## Feature Engineering\n",
    "\n",
    "In order to turn these champions list into something useful for our machine learning model, we will create new columns for the model to interpret.\n",
    "\n",
    "1. We create side-agnostic champion presence:\n",
    "A binary column that indicated whether or not the champion was included in the game.\n",
    "\n",
    "2. Team synergy score: A custom made formula that calculates the combinations of each ally champion with another ally champion's synergy, calculated using a elo-inspired formula. A column for each team will contain the team's synergy score indicating how synergistic the team is, with positive indiciating more synergy and negative indicating vice versa.\n",
    "\n",
    "3. Counter-delta: A custom made formula that instead of calculating the combinations of each ally champion, calculates the combinations of a champion on one team vs every champion on the other team. The counter delta is calculated for each champion on each team, and the difference indicates how much one team counters another. Positive indicating blue team has a significance counter over red team, while negative shows the opposite. Stored inside a column for each game."
   ]
  },
  {
   "cell_type": "code",
   "execution_count": null,
   "id": "9efe2307",
   "metadata": {},
   "outputs": [],
   "source": [
    "# We'll use the cleaned DataFrame with parsed teams and target\n",
    "\n",
    "# Champion win rates and synergy only\n",
    "champ_winrates = lol.calculate_champion_winrates(df)\n",
    "df = lol.add_synergy_and_counter_scores(df, champ_winrates)  # if you made this synergy-only, it’s fine\n",
    "\n",
    "# Side-agnostic presence features\n",
    "for champ in lol.champion_list:\n",
    "    df[f'{champ}'] = df.apply(\n",
    "        lambda row: int(champ in row['blue_team'] or champ in row['red_team']),\n",
    "        axis=1\n",
    "    )\n",
    "\n",
    "# Build features (presence + synergy only)\n",
    "champ_presence_cols = [f'{champ}' for champ in lol.champion_list]\n",
    "extra_cols = ['synergy_blue', 'synergy_red', 'counter_delta']\n",
    "feature_cols = champ_presence_cols + [c for c in extra_cols if c in df.columns]\n",
    "\n",
    "# Ensure booleans -> ints\n",
    "for col in feature_cols:\n",
    "    if df[col].dtype == 'bool':\n",
    "        df[col] = df[col].astype(int)"
   ]
  },
  {
   "cell_type": "markdown",
   "id": "06288fee",
   "metadata": {},
   "source": [
    "## Model Matrix\n",
    "We will then pick the feature columns to be created in our project, this includes of course, our feature engineered columns that we created. We will use this matrix with the combination of the target column to make predictions for the match."
   ]
  },
  {
   "cell_type": "code",
   "execution_count": null,
   "id": "2a098824",
   "metadata": {},
   "outputs": [],
   "source": [
    "X = df[feature_cols]\n",
    "y = df['target']"
   ]
  },
  {
   "cell_type": "code",
   "execution_count": null,
   "id": "1faef932",
   "metadata": {},
   "outputs": [],
   "source": [
    "df.to_pickle('cleaned_features.pkl')"
   ]
  }
 ],
 "metadata": {
  "kernelspec": {
   "display_name": "lol_match_prediction",
   "language": "python",
   "name": "python3"
  },
  "language_info": {
   "codemirror_mode": {
    "name": "ipython",
    "version": 3
   },
   "file_extension": ".py",
   "mimetype": "text/x-python",
   "name": "python",
   "nbconvert_exporter": "python",
   "pygments_lexer": "ipython3",
   "version": "3.12.11"
  }
 },
 "nbformat": 4,
 "nbformat_minor": 5
}
