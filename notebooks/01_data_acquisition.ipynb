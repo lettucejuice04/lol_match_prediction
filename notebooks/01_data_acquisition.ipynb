{
 "cells": [
  {
   "cell_type": "markdown",
   "id": "66f1e4b7",
   "metadata": {},
   "source": [
    "### Importing Libraries"
   ]
  },
  {
   "cell_type": "code",
   "execution_count": null,
   "id": "796f095a",
   "metadata": {},
   "outputs": [],
   "source": [
    "import src.lol_utils as lol\n",
    "import pandas as pd"
   ]
  },
  {
   "cell_type": "markdown",
   "id": "65f76288",
   "metadata": {},
   "source": [
    "### Data Collection Process\n",
    "\n",
    "This cell collects data from the Riot API for three regions: NA, EUW, and KR. The process involves multiple steps, leveraging functions defined in `src/lol_utils.py`. Ultimately, we get a dataframe filled with the top players of NA/KR/EUW last ranked games (in their past 20 games) and records the champions on the blue side, red side, and the respective winner of the game (blue/red)."
   ]
  },
  {
   "cell_type": "code",
   "execution_count": null,
   "id": "a7ac3dff",
   "metadata": {},
   "outputs": [],
   "source": [
    "# collecting NA data \n",
    "na_challenger_puuids = lol.get_chall_ladder_puuid(\"na1\").head(200)\n",
    "na_matches = lol.combine_match_histories(na_challenger_puuids, region=\"na1\")\n",
    "na_champs_df = lol.get_all_champs_with_winner(na_matches, region=\"na1\")\n",
    "\n",
    "# collecting EUW data\n",
    "euw_challenger_puuids = lol.get_chall_ladder_puuid(\"euw1\").head(200)\n",
    "euw_matches = lol.combine_match_histories(euw_challenger_puuids, region=\"euw1\")\n",
    "euw_champs_df = lol.get_all_champs_with_winner(euw_matches, region=\"euw1\")\n",
    "\n",
    "# collecting KR data\n",
    "kr_challenger_puuids = lol.get_chall_ladder_puuid(\"kr\").head(200)\n",
    "kr_matches = lol.combine_match_histories(kr_challenger_puuids, region=\"kr\")\n",
    "kr_champs_df = lol.get_all_champs_with_winner(kr_matches, region=\"kr\")\n",
    "\n",
    "all_data = pd.concat([na_champs_df, euw_champs_df, kr_champs_df], ignore_index=True) "
   ]
  },
  {
   "cell_type": "markdown",
   "id": "f07657cd",
   "metadata": {},
   "source": [
    "### Saving the Data\n",
    "We insert the database into a SQL table and set it equal to our dataframe.\n",
    "\n",
    "We do this in order to \n",
    "1. Store the data in a safe place.\n",
    "2. Ensure the database is consistent with usage of *upsert* in the function.\n",
    "3. Makes logic for submitting and retrieving data easier for different tables and schemas.\n",
    "4. Faster than requesting Riot API."
   ]
  },
  {
   "cell_type": "code",
   "execution_count": null,
   "id": "ef573f28",
   "metadata": {},
   "outputs": [],
   "source": [
    "df = lol.submit_to_sql_and_fetch(schema='soloq', table_name='lol_analytics', df=all_data)"
   ]
  }
 ],
 "metadata": {
  "kernelspec": {
   "display_name": "lol_match_prediction",
   "language": "python",
   "name": "python3"
  },
  "language_info": {
   "codemirror_mode": {
    "name": "ipython",
    "version": 3
   },
   "file_extension": ".py",
   "mimetype": "text/x-python",
   "name": "python",
   "nbconvert_exporter": "python",
   "pygments_lexer": "ipython3",
   "version": "3.12.11"
  }
 },
 "nbformat": 4,
 "nbformat_minor": 5
}
